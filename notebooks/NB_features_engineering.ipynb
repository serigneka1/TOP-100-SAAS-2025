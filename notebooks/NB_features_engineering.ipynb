{
 "cells": [
  {
   "cell_type": "markdown",
   "id": "d113ff64",
   "metadata": {},
   "source": [
    "## Features engineering\n",
    "Ce note a pour objectif d'ajouter ou de supprimer des colonnes"
   ]
  },
  {
   "cell_type": "code",
   "execution_count": 10,
   "id": "63aa08dd",
   "metadata": {},
   "outputs": [],
   "source": [
    "import pandas as pd\n",
    "import numpy as np"
   ]
  },
  {
   "cell_type": "code",
   "execution_count": 11,
   "id": "8470c5f2",
   "metadata": {},
   "outputs": [],
   "source": [
    "path = \"../data/cleaned_data/top_100_startup_2025.csv\"\n",
    "df = pd.read_csv(path)"
   ]
  },
  {
   "cell_type": "markdown",
   "id": "d4602aa0",
   "metadata": {},
   "source": [
    "# feature engineering"
   ]
  },
  {
   "cell_type": "markdown",
   "id": "ba405554",
   "metadata": {},
   "source": [
    "Ajout de colonnes: <br>\n",
    "1- Cote d’activité qui représente le niveau d’activité de l’entreprise <br>\n",
    "2- Cote de crédit (ou « score de crédit ») qui représente la solvabilité financière de l'entreprise"
   ]
  },
  {
   "cell_type": "code",
   "execution_count": 21,
   "id": "58373a6c",
   "metadata": {},
   "outputs": [],
   "source": [
    "colonnes = [\"nombre_employes\", \"capital_$\", \"ca_$\", \"valorisation_$\", \"cote_g2\"]\n",
    "df_final = df[colonnes].copy()"
   ]
  },
  {
   "cell_type": "code",
   "execution_count": 22,
   "id": "227d5407",
   "metadata": {},
   "outputs": [],
   "source": [
    "\n",
    "# Critères sur le CA pour calculer la cote d'activité\n",
    "g2_cotation_to_turnover_usd = {\n",
    "    \"A\": [810_000_000, float(\"inf\")],       # ≥ 750 M€\n",
    "    \"B\": [162_000_000, 810_000_000],        # 150–750 M€\n",
    "    \"C\": [54_000_000, 162_000_000],         # 50–150 M€\n",
    "    \"D\": [32_400_000, 54_000_000],          # 30–50 M€\n",
    "    \"E\": [16_200_000, 32_400_000],          # 15–30 M€\n",
    "    \"F\": [8_100_000, 16_200_000],           # 7.5–15 M€\n",
    "    \"G\": [1_620_000, 8_100_000],            # 1.5–7.5 M€\n",
    "    \"H\": [810_000, 1_620_000],              # 0.75–1.5 M€\n",
    "    \"J\": [540_000, 810_000],                # 0.5–0.75 M€\n",
    "    \"K\": [270_000, 540_000],                # 0.25–0.5 M€\n",
    "    \"L\": [108_000, 270_000],                # 0.10–0.25 M€\n",
    "    \"M\": [0, 108_000],                      # < 0.10 M€\n",
    "    \"N\": None,                              # Non significatif\n",
    "    \"X\": None                               # Inconnu ou trop ancien\n",
    "}\n",
    "\n",
    "colonne = []\n",
    "\n",
    "for v in df_features [\"ca_$\"]:\n",
    "    if v >= 810_000_000:\n",
    "        colonne.append(\"A\")\n",
    "    elif v >= 162_000_000:\n",
    "        colonne.append(\"B\")\n",
    "    elif v >= 54_000_000:\n",
    "        colonne.append(\"C\")\n",
    "    elif v >= 32_400_000:\n",
    "        colonne.append(\"D\")\n",
    "    elif v >= 16_200_000:\n",
    "        colonne.append(\"E\")\n",
    "    elif v >= 8_100_000:\n",
    "        colonne.append(\"F\")\n",
    "    elif v >= 1_620_000:\n",
    "        colonne.append(\"G\")\n",
    "    elif v >= 810_000:\n",
    "        colonne.append(\"H\")\n",
    "    elif v >= 540_000:\n",
    "        colonne.append(\"J\")\n",
    "    elif v >= 270_000:\n",
    "        colonne.append(\"K\")\n",
    "    elif v >= 108_000:\n",
    "        colonne.append(\"L\")\n",
    "    elif v >= 0:\n",
    "        colonne.append(\"M\")\n",
    "    else:\n",
    "        colonne.append(\"X\")  # Valeur manquante ou négative\n",
    "\n",
    "df_final[\"cote_activite\"] = colonne"
   ]
  },
  {
   "cell_type": "code",
   "execution_count": 23,
   "id": "21003b00",
   "metadata": {},
   "outputs": [],
   "source": [
    "# Ajoute de la colonne \"cote_cativite\"\n",
    "freq_cotes = df_final[\"cote_activite\"].value_counts(normalize=True)\n",
    "df_final[\"cote_activite\"] =df_final[\"cote_activite\"].map(freq_cotes)"
   ]
  },
  {
   "cell_type": "markdown",
   "id": "12f99ace",
   "metadata": {},
   "source": [
    "Critère pour la cote de crédit:\n",
    "| Critère                                   | Pondération approximative |\n",
    "| ----------------------------------------- | ------------------------- |\n",
    "| Historique de paiements                   | 35 %                      |\n",
    "| Montant dû / taux d’utilisation du crédit | 30 %                      |\n",
    "| Longévité de l’historique                 | 15 %                      |\n",
    "| Type de crédit utilisé                    | 10 %                      |\n",
    "| Nouvelles demandes de crédit              | 10 %                      |\n"
   ]
  },
  {
   "cell_type": "code",
   "execution_count": 16,
   "id": "47af58f3",
   "metadata": {},
   "outputs": [],
   "source": [
    "# exemple d'un modèle de calcul\n",
    "def credit_score(ebitda_margin, debt_equity_ratio, ca_growth, payment_history_score):\n",
    "    score = (\n",
    "        ebitda_margin * 30 +\n",
    "        (1 / (1 + debt_equity_ratio)) * 25 +\n",
    "        ca_growth * 20 +\n",
    "        payment_history_score * 25\n",
    "    )\n",
    "    return round(score, 2)"
   ]
  },
  {
   "cell_type": "markdown",
   "id": "ec68bd77",
   "metadata": {},
   "source": [
    "Pas assez d'éléments pour ajouter cette colonne, pour l'instant !!! "
   ]
  },
  {
   "cell_type": "code",
   "execution_count": 27,
   "id": "c7d83aef",
   "metadata": {},
   "outputs": [],
   "source": [
    "df_final.to_csv(\"../data/final_data/top_100_startup_2025.csv\")"
   ]
  }
 ],
 "metadata": {
  "kernelspec": {
   "display_name": ".venv",
   "language": "python",
   "name": "python3"
  },
  "language_info": {
   "codemirror_mode": {
    "name": "ipython",
    "version": 3
   },
   "file_extension": ".py",
   "mimetype": "text/x-python",
   "name": "python",
   "nbconvert_exporter": "python",
   "pygments_lexer": "ipython3",
   "version": "3.13.1"
  }
 },
 "nbformat": 4,
 "nbformat_minor": 5
}
